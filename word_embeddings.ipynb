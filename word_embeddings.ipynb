{
 "cells": [
  {
   "cell_type": "code",
   "execution_count": 1,
   "metadata": {},
   "outputs": [],
   "source": [
    "import io\n",
    "import numpy as np\n",
    "from sklearn.metrics.pairwise import cosine_similarity, euclidean_distances\n",
    "import matplotlib\n",
    "import numpy as np\n",
    "import matplotlib.pyplot as plt\n",
    "%matplotlib inline  \n",
    "\n",
    "def load_vectors(fname):\n",
    "    fin = io.open(fname, 'r', encoding='utf-8', newline='\\n', errors='ignore')\n",
    "    data = {}\n",
    "    for line in fin:\n",
    "        tokens = line.rstrip().split(' ')\n",
    "        data[tokens[0]] = np.array(list(map(float, tokens[1:])))\n",
    "    return data"
   ]
  },
  {
   "cell_type": "code",
   "execution_count": 18,
   "metadata": {},
   "outputs": [],
   "source": [
    "DIM = 300\n",
    "POINTS = 20000\n",
    "\n",
    "matrix = np.zeros((POINTS,DIM))\n",
    "for i in range(POINTS):\n",
    "    v = np.random.randn(DIM)\n",
    "    matrix[i] = v\n",
    "\n",
    "query = np.random.randn(DIM)\n",
    "query = query.reshape((1, DIM))\n",
    "\n",
    "dists = cosine_similarity(matrix, query)"
   ]
  },
  {
   "cell_type": "code",
   "execution_count": 19,
   "metadata": {},
   "outputs": [
    {
     "data": {
      "text/plain": [
       "array([[-0.15334445],\n",
       "       [ 0.00767121],\n",
       "       [-0.03787881],\n",
       "       ...,\n",
       "       [ 0.04340839],\n",
       "       [ 0.00355914],\n",
       "       [-0.00552335]])"
      ]
     },
     "execution_count": 19,
     "metadata": {},
     "output_type": "execute_result"
    }
   ],
   "source": [
    "dists"
   ]
  },
  {
   "cell_type": "code",
   "execution_count": null,
   "metadata": {},
   "outputs": [],
   "source": []
  },
  {
   "cell_type": "code",
   "execution_count": 2,
   "metadata": {},
   "outputs": [],
   "source": [
    "embd = load_vectors('data/glove/glove.840B.300d.txt')"
   ]
  },
  {
   "cell_type": "code",
   "execution_count": 16,
   "metadata": {},
   "outputs": [
    {
     "ename": "KeyError",
     "evalue": "'<CLS>'",
     "output_type": "error",
     "traceback": [
      "\u001b[0;31m---------------------------------------------------------------------------\u001b[0m",
      "\u001b[0;31mKeyError\u001b[0m                                  Traceback (most recent call last)",
      "\u001b[0;32m<ipython-input-16-536a47e664fb>\u001b[0m in \u001b[0;36m<module>\u001b[0;34m()\u001b[0m\n\u001b[0;32m----> 1\u001b[0;31m \u001b[0membd\u001b[0m\u001b[0;34m[\u001b[0m\u001b[0;34m'<CLS>'\u001b[0m\u001b[0;34m]\u001b[0m\u001b[0;34m\u001b[0m\u001b[0m\n\u001b[0m",
      "\u001b[0;31mKeyError\u001b[0m: '<CLS>'"
     ]
    }
   ],
   "source": [
    "embd['<CLS>']"
   ]
  },
  {
   "cell_type": "code",
   "execution_count": 315,
   "metadata": {},
   "outputs": [],
   "source": [
    "embd_matrix = list(embd.values())[1:]"
   ]
  },
  {
   "cell_type": "code",
   "execution_count": 316,
   "metadata": {},
   "outputs": [],
   "source": [
    "embd_matrix = np.array(embd_matrix)\n",
    "# embd_matrix /= np.linalg.norm(embd_matrix, axis=1, ord=2).reshape((-1,1))"
   ]
  },
  {
   "cell_type": "code",
   "execution_count": 317,
   "metadata": {},
   "outputs": [
    {
     "data": {
      "text/plain": [
       "(2196015, 300)"
      ]
     },
     "execution_count": 317,
     "metadata": {},
     "output_type": "execute_result"
    }
   ],
   "source": [
    "embd_matrix.shape"
   ]
  },
  {
   "cell_type": "code",
   "execution_count": 318,
   "metadata": {},
   "outputs": [],
   "source": [
    "embd_keys = list(embd.keys())[1:]"
   ]
  },
  {
   "cell_type": "code",
   "execution_count": 384,
   "metadata": {},
   "outputs": [],
   "source": [
    "def noisy_nnb(word_list, embd, embd_keys, embd_matrix, eps=1.0, seed=None, nth=2):\n",
    "    # Setting the seed\n",
    "    if seed is not None:\n",
    "        np.random.seed(seed)\n",
    "    \n",
    "    # eps = 0 provides absolute privacy\n",
    "    length = len(word_list)\n",
    "    query = []\n",
    "    for word in word_list:\n",
    "        try:\n",
    "            query.append(embd[word])\n",
    "        except:\n",
    "            query.append(np.zeros(300))\n",
    "        \n",
    "    query = np.array(query).reshape(length, -1)\n",
    "#     query = query / np.linalg.norm(query, axis=1, ord=2).reshape((-1,1))\n",
    "    \n",
    "    # Add noise\n",
    "#    noise = np.random.exponential(scale=1.0/(eps+1e-6), size=query.shape) * (2 * np.random.binomial(n=1, p=0.5, size=query.shape) - 1) * 0.1\n",
    "    normal_noise = np.random.normal(size=query.shape)\n",
    "    normal_noise /= np.linalg.norm(normal_noise, axis=1).reshape((-1, 1))\n",
    "    noise = normal_noise * np.random.gamma(eps, size=(len(query), 1))\n",
    "#     noise = normal_noise * eps\n",
    "    query = query + noise\n",
    "    \n",
    "    dist = cosine_similarity(embd_matrix, query)\n",
    "#     dist = euclidean_distances(embd_matrix, query)\n",
    "    \n",
    "    return dist, [embd_keys[i] for i in dist.argsort(axis=0)[-nth]], noise"
   ]
  },
  {
   "cell_type": "code",
   "execution_count": 385,
   "metadata": {},
   "outputs": [
    {
     "data": {
      "text/plain": [
       "['shashi',\n",
       " 'danny',\n",
       " 'charles',\n",
       " 'william',\n",
       " 'andrew',\n",
       " 'oliver',\n",
       " 'davis',\n",
       " 'DescriptionPosition',\n",
       " 'fly']"
      ]
     },
     "execution_count": 385,
     "metadata": {},
     "output_type": "execute_result"
    }
   ],
   "source": [
    "dists, words, noise = noisy_nnb(['abhinav', 'alex', 'christopher', 'john', 'david', 'alexander', 'tyler', 'anjishnu', 'flight'], embd, embd_keys, embd_matrix, eps=1, seed=100, nth=10)\n",
    "words"
   ]
  },
  {
   "cell_type": "code",
   "execution_count": 387,
   "metadata": {},
   "outputs": [
    {
     "data": {
      "text/plain": [
       "['entire', 'airplane', 'until', 'etc.']"
      ]
     },
     "execution_count": 387,
     "metadata": {},
     "output_type": "execute_result"
    }
   ],
   "source": [
    "dists, words, noise = noisy_nnb(['the', 'flight', 'time', 'and'], embd, embd_keys, embd_matrix, eps=5, seed=1000, nth=5)\n",
    "words"
   ]
  },
  {
   "cell_type": "code",
   "execution_count": 365,
   "metadata": {},
   "outputs": [
    {
     "data": {
      "text/plain": [
       "['the', 'flight', 'time', 'between', 'south', 'korea', 'and', 'singapore']"
      ]
     },
     "execution_count": 365,
     "metadata": {},
     "output_type": "execute_result"
    }
   ],
   "source": [
    "'the flight time between south korea and singapore'.split(' ')"
   ]
  },
  {
   "cell_type": "code",
   "execution_count": 388,
   "metadata": {},
   "outputs": [
    {
     "data": {
      "text/plain": [
       "['The',\n",
       " 'airplane',\n",
       " 'before',\n",
       " 'across',\n",
       " 'southeast',\n",
       " 'asia',\n",
       " 'while',\n",
       " 'thailand']"
      ]
     },
     "execution_count": 388,
     "metadata": {},
     "output_type": "execute_result"
    }
   ],
   "source": [
    "dists, words, noise = noisy_nnb(list('the flight time between south korea and singapore'.split(' ')), embd, embd_keys, embd_matrix, eps=1, seed=100, nth=5)\n",
    "words"
   ]
  },
  {
   "cell_type": "code",
   "execution_count": 348,
   "metadata": {},
   "outputs": [
    {
     "data": {
      "text/plain": [
       "(array([[0., 0., 0., ..., 0., 0., 0.],\n",
       "        [0., 0., 0., ..., 0., 0., 0.],\n",
       "        [0., 0., 0., ..., 0., 0., 0.],\n",
       "        ...,\n",
       "        [0., 0., 0., ..., 0., 0., 0.],\n",
       "        [0., 0., 0., ..., 0., 0., 0.],\n",
       "        [0., 0., 0., ..., 0., 0., 0.]]),\n",
       " array([-3.51794342, -3.37465077, -3.23135813, -3.08806548, -2.94477284,\n",
       "        -2.80148019, -2.65818755, -2.5148949 , -2.37160225, -2.22830961,\n",
       "        -2.08501696, -1.94172432, -1.79843167, -1.65513903, -1.51184638,\n",
       "        -1.36855374, -1.22526109, -1.08196845, -0.9386758 , -0.79538315,\n",
       "        -0.65209051, -0.50879786, -0.36550522, -0.22221257, -0.07891993,\n",
       "         0.06437272,  0.20766536,  0.35095801,  0.49425066,  0.6375433 ,\n",
       "         0.78083595,  0.92412859,  1.06742124,  1.21071388,  1.35400653,\n",
       "         1.49729917,  1.64059182,  1.78388446,  1.92717711,  2.07046976,\n",
       "         2.2137624 ,  2.35705505,  2.50034769,  2.64364034,  2.78693298,\n",
       "         2.93022563,  3.07351827,  3.21681092,  3.36010357,  3.50339621,\n",
       "         3.64668886]),\n",
       " array([-6.78719672, -6.54574038, -6.30428403, -6.06282768, -5.82137133,\n",
       "        -5.57991499, -5.33845864, -5.09700229, -4.85554594, -4.6140896 ,\n",
       "        -4.37263325, -4.1311769 , -3.88972055, -3.64826421, -3.40680786,\n",
       "        -3.16535151, -2.92389516, -2.68243882, -2.44098247, -2.19952612,\n",
       "        -1.95806977, -1.71661342, -1.47515708, -1.23370073, -0.99224438,\n",
       "        -0.75078803, -0.50933169, -0.26787534, -0.02641899,  0.21503736,\n",
       "         0.4564937 ,  0.69795005,  0.9394064 ,  1.18086275,  1.42231909,\n",
       "         1.66377544,  1.90523179,  2.14668814,  2.38814448,  2.62960083,\n",
       "         2.87105718,  3.11251353,  3.35396988,  3.59542622,  3.83688257,\n",
       "         4.07833892,  4.31979527,  4.56125161,  4.80270796,  5.04416431,\n",
       "         5.28562066]),\n",
       " <matplotlib.image.AxesImage at 0x7f8ea719da90>)"
      ]
     },
     "execution_count": 348,
     "metadata": {},
     "output_type": "execute_result"
    },
    {
     "data": {
      "image/png": "[encoded data removed]",
      "text/plain": [
       "<Figure size 432x288 with 1 Axes>"
      ]
     },
     "metadata": {},
     "output_type": "display_data"
    }
   ],
   "source": [
    "normal_noise = np.random.normal(size=(10000,10))\n",
    "normal_noise /= np.linalg.norm(normal_noise, axis=1, ord=2).reshape((-1, 1))\n",
    "noise = normal_noise * np.random.gamma(1, size=(10000, 1))\n",
    "plt.hist2d(noise[:,0], noise[:,1], bins=(50,50))"
   ]
  },
  {
   "cell_type": "code",
   "execution_count": null,
   "metadata": {},
   "outputs": [],
   "source": []
  },
  {
   "cell_type": "code",
   "execution_count": null,
   "metadata": {},
   "outputs": [],
   "source": []
  },
  {
   "cell_type": "code",
   "execution_count": null,
   "metadata": {},
   "outputs": [],
   "source": []
  },
  {
   "cell_type": "code",
   "execution_count": null,
   "metadata": {},
   "outputs": [],
   "source": []
  },
  {
   "cell_type": "code",
   "execution_count": null,
   "metadata": {},
   "outputs": [],
   "source": []
  },
  {
   "cell_type": "code",
   "execution_count": 213,
   "metadata": {},
   "outputs": [],
   "source": [
    "noise = np.random.normal(size=query.shape) * np.random.gamma(1, size=(len(query), 1))"
   ]
  },
  {
   "cell_type": "code",
   "execution_count": 218,
   "metadata": {},
   "outputs": [
    {
     "data": {
      "text/plain": [
       "array([[0.43118377]])"
      ]
     },
     "execution_count": 218,
     "metadata": {},
     "output_type": "execute_result"
    }
   ],
   "source": [
    "np.random.gamma(1, size=(len(query), 1))"
   ]
  },
  {
   "cell_type": "code",
   "execution_count": null,
   "metadata": {},
   "outputs": [],
   "source": []
  },
  {
   "cell_type": "code",
   "execution_count": 1,
   "metadata": {},
   "outputs": [
    {
     "data": {
      "text/plain": [
       "<torch._C.Generator at 0x7fe750126310>"
      ]
     },
     "execution_count": 1,
     "metadata": {},
     "output_type": "execute_result"
    }
   ],
   "source": [
    "import torch\n",
    "import torch.nn as nn\n",
    "import torch.nn.functional as F\n",
    "import torch.optim as optim\n",
    "\n",
    "torch.manual_seed(1)"
   ]
  },
  {
   "cell_type": "code",
   "execution_count": 24,
   "metadata": {},
   "outputs": [
    {
     "name": "stdout",
     "output_type": "stream",
     "text": [
      "tensor([[-2.5667, -1.4303,  0.5009,  0.5438, -0.4057],\n",
      "        [ 1.1341, -1.1115,  0.3501, -0.7703, -0.1473],\n",
      "        [-2.5667, -1.4303,  0.5009,  0.5438, -0.4057],\n",
      "        [ 1.1341, -1.1115,  0.3501, -0.7703, -0.1473],\n",
      "        [ 1.1341, -1.1115,  0.3501, -0.7703, -0.1473],\n",
      "        [ 1.1341, -1.1115,  0.3501, -0.7703, -0.1473]],\n",
      "       grad_fn=<EmbeddingBackward>)\n"
     ]
    }
   ],
   "source": [
    "word_to_ix = {\"hello\": 0, \"world\": 1}\n",
    "embeds = nn.Embedding(2, 5)  # 2 words in vocab, 5 dimensional embeddings\n",
    "lookup_tensor = torch.tensor([0,1,0,1,1,1], dtype=torch.long)\n",
    "hello_embed = embeds(lookup_tensor)\n",
    "print(hello_embed)"
   ]
  },
  {
   "cell_type": "code",
   "execution_count": 43,
   "metadata": {},
   "outputs": [
    {
     "name": "stdout",
     "output_type": "stream",
     "text": [
      "Parameter containing:\n",
      "tensor([[ 0.0000,  0.0000,  0.0000,  0.0000,  0.0000],\n",
      "        [ 1.1341, -1.1115,  0.3501, -0.7703, -0.1473]], grad_fn=<CopySlices>)\n"
     ]
    }
   ],
   "source": [
    "for i in embeds.parameters():\n",
    "    print(i)"
   ]
  },
  {
   "cell_type": "code",
   "execution_count": 58,
   "metadata": {},
   "outputs": [
    {
     "data": {
      "text/plain": [
       "tensor([[ 0.6984, -0.8005],\n",
       "        [ 1.5381,  1.4673],\n",
       "        [ 1.5951, -1.5279]], requires_grad=True)"
      ]
     },
     "execution_count": 58,
     "metadata": {},
     "output_type": "execute_result"
    }
   ],
   "source": [
    "from torch.autograd import Variable\n",
    "a = Variable(torch.randn(3,2), requires_grad=True)\n",
    "a"
   ]
  },
  {
   "cell_type": "code",
   "execution_count": 57,
   "metadata": {},
   "outputs": [
    {
     "data": {
      "text/plain": [
       "False"
      ]
     },
     "execution_count": 57,
     "metadata": {},
     "output_type": "execute_result"
    }
   ],
   "source": []
  },
  {
   "cell_type": "code",
   "execution_count": 59,
   "metadata": {},
   "outputs": [],
   "source": [
    "b = torch.randn(3,2,5)"
   ]
  },
  {
   "cell_type": "code",
   "execution_count": 61,
   "metadata": {},
   "outputs": [
    {
     "data": {
      "text/plain": [
       "torch.Size([5])"
      ]
     },
     "execution_count": 61,
     "metadata": {},
     "output_type": "execute_result"
    }
   ],
   "source": [
    "b[0,0,].size()"
   ]
  },
  {
   "cell_type": "code",
   "execution_count": 63,
   "metadata": {},
   "outputs": [
    {
     "data": {
      "text/plain": [
       "torch.Size([2, 3, 3])"
      ]
     },
     "execution_count": 63,
     "metadata": {},
     "output_type": "execute_result"
    }
   ],
   "source": [
    "a = torch.randn(2,3,4)\n",
    "b = torch.randn(1,4,3)\n",
    "torch.matmul(a, b).size()"
   ]
  },
  {
   "cell_type": "code",
   "execution_count": 66,
   "metadata": {},
   "outputs": [
    {
     "data": {
      "text/plain": [
       "torch.Size([2, 6, 4])"
      ]
     },
     "execution_count": 66,
     "metadata": {},
     "output_type": "execute_result"
    }
   ],
   "source": [
    "a.repeat(1,2,1).size()"
   ]
  },
  {
   "cell_type": "code",
   "execution_count": 71,
   "metadata": {},
   "outputs": [
    {
     "data": {
      "text/plain": [
       "tensor([[[ 0.8803,  0.5456],\n",
       "         [-0.5979,  0.3257],\n",
       "         [-0.5642, -1.1759]]])"
      ]
     },
     "execution_count": 71,
     "metadata": {},
     "output_type": "execute_result"
    }
   ],
   "source": [
    "a = torch.randn(1, 3, 2) # [B, T, D]\n",
    "a"
   ]
  },
  {
   "cell_type": "code",
   "execution_count": 77,
   "metadata": {},
   "outputs": [
    {
     "data": {
      "text/plain": [
       "tensor([[[[ 0.8803,  0.5456],\n",
       "          [ 0.8803,  0.5456],\n",
       "          [ 0.8803,  0.5456]],\n",
       "\n",
       "         [[-0.5979,  0.3257],\n",
       "          [-0.5979,  0.3257],\n",
       "          [-0.5979,  0.3257]],\n",
       "\n",
       "         [[-0.5642, -1.1759],\n",
       "          [-0.5642, -1.1759],\n",
       "          [-0.5642, -1.1759]]]])"
      ]
     },
     "execution_count": 77,
     "metadata": {},
     "output_type": "execute_result"
    }
   ],
   "source": [
    "a = a.repeat(1, 1, 3).view(1, 3, 3, 2) # [B, T, T, D]\n",
    "a"
   ]
  },
  {
   "cell_type": "code",
   "execution_count": 87,
   "metadata": {},
   "outputs": [
    {
     "data": {
      "text/plain": [
       "tensor([[[[ 1.5083,  0.1054],\n",
       "          [-1.6050, -0.1064],\n",
       "          [ 0.2466,  0.6125],\n",
       "          [-0.0077,  2.6158]],\n",
       "\n",
       "         [[ 1.0757, -0.5536],\n",
       "          [-1.6160,  0.0934],\n",
       "          [-1.3898, -0.3105],\n",
       "          [ 1.0693,  1.4394]],\n",
       "\n",
       "         [[ 1.3694,  0.4539],\n",
       "          [-0.0498,  0.3745],\n",
       "          [ 1.4389,  1.4151],\n",
       "          [-0.1589, -0.7360]]]])"
      ]
     },
     "execution_count": 87,
     "metadata": {},
     "output_type": "execute_result"
    }
   ],
   "source": [
    "h = torch.randn(1, 3, 4, 2) # [B, T, T2, D]\n",
    "h"
   ]
  },
  {
   "cell_type": "code",
   "execution_count": 88,
   "metadata": {},
   "outputs": [
    {
     "data": {
      "text/plain": [
       "tensor([[[ 1.3853, -1.4709,  0.5513,  1.4205],\n",
       "         [-0.8234,  0.9966,  0.7298, -0.1705],\n",
       "         [-1.3064, -0.4123, -2.4758,  0.9552]]])"
      ]
     },
     "execution_count": 88,
     "metadata": {},
     "output_type": "execute_result"
    }
   ],
   "source": [
    "result = torch.diagonal( a.matmul(h.transpose(-2, -1)), dim1=1, dim2=2 ).transpose(-2, -1)\n",
    "result"
   ]
  },
  {
   "cell_type": "code",
   "execution_count": 86,
   "metadata": {},
   "outputs": [
    {
     "data": {
      "text/plain": [
       "torch.Size([1, 3, 4])"
      ]
     },
     "execution_count": 86,
     "metadata": {},
     "output_type": "execute_result"
    }
   ],
   "source": [
    "result.size() # [B, T, T2]"
   ]
  },
  {
   "cell_type": "code",
   "execution_count": 89,
   "metadata": {},
   "outputs": [
    {
     "data": {
      "text/plain": [
       "torch.Size([2, 5])"
      ]
     },
     "execution_count": 89,
     "metadata": {},
     "output_type": "execute_result"
    }
   ],
   "source": [
    "D = torch.randn(2, 5, 5)\n",
    "torch.diagonal(D, dim1=1, dim2=2).size()"
   ]
  },
  {
   "cell_type": "code",
   "execution_count": 93,
   "metadata": {},
   "outputs": [],
   "source": [
    "dd = torch.randn(2,1,3,4)"
   ]
  },
  {
   "cell_type": "code",
   "execution_count": 94,
   "metadata": {},
   "outputs": [
    {
     "data": {
      "text/plain": [
       "tensor([[[[-0.3499, -0.2344, -0.5452,  0.2751],\n",
       "          [-1.1834, -0.8202,  0.3057,  0.1398],\n",
       "          [-0.8873,  0.5298,  0.2684,  0.3501]]],\n",
       "\n",
       "\n",
       "        [[[-0.2723,  1.0666, -0.8953,  1.4148],\n",
       "          [-0.9173,  0.8372,  1.4950, -0.8303],\n",
       "          [-1.9901, -0.8779,  0.2204, -1.9548]]]])"
      ]
     },
     "execution_count": 94,
     "metadata": {},
     "output_type": "execute_result"
    }
   ],
   "source": [
    "dd"
   ]
  },
  {
   "cell_type": "code",
   "execution_count": 95,
   "metadata": {},
   "outputs": [
    {
     "data": {
      "text/plain": [
       "torch.Size([2, 1, 3])"
      ]
     },
     "execution_count": 95,
     "metadata": {},
     "output_type": "execute_result"
    }
   ],
   "source": [
    "torch.argmax(dd, dim=-1).size()"
   ]
  },
  {
   "cell_type": "code",
   "execution_count": null,
   "metadata": {},
   "outputs": [],
   "source": []
  }
 ],
 "metadata": {
  "kernelspec": {
   "display_name": "Environment (conda_pytorch_p36)",
   "language": "python",
   "name": "conda_pytorch_p36"
  },
  "language_info": {
   "codemirror_mode": {
    "name": "ipython",
    "version": 3
   },
   "file_extension": ".py",
   "mimetype": "text/x-python",
   "name": "python",
   "nbconvert_exporter": "python",
   "pygments_lexer": "ipython3",
   "version": "3.6.5"
  }
 },
 "nbformat": 4,
 "nbformat_minor": 2
}
