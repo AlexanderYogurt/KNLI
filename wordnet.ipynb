{
 "cells": [
  {
   "cell_type": "code",
   "execution_count": 19,
   "metadata": {},
   "outputs": [
    {
     "name": "stdout",
     "output_type": "stream",
     "text": [
      "[nltk_data] Downloading package wordnet to /home/ubuntu/nltk_data...\n",
      "[nltk_data]   Package wordnet is already up-to-date!\n"
     ]
    }
   ],
   "source": [
    "import nltk\n",
    "nltk.download('wordnet')\n",
    "from nltk.corpus import wordnet as wn\n",
    "import numpy as np"
   ]
  },
  {
   "cell_type": "code",
   "execution_count": 85,
   "metadata": {},
   "outputs": [],
   "source": [
    "def get_hyponyms(word):\n",
    "    word = wn.synsets(word)\n",
    "    if len(word) == 0:\n",
    "        return []\n",
    "    word = word[0]\n",
    "    hyponyms = list(set([w for s in word.closure(lambda s:s.hyponyms()) for w in s.lemma_names()]))\n",
    "    \n",
    "    return hyponyms"
   ]
  },
  {
   "cell_type": "code",
   "execution_count": 86,
   "metadata": {},
   "outputs": [],
   "source": [
    "def get_hypernyms(word):\n",
    "    word = wn.synsets(word)\n",
    "    if len(word) == 0:\n",
    "        return []\n",
    "    word = word[0]\n",
    "    hypernyms = list(set([w for s in word.closure(lambda s:s.hypernyms()) for w in s.lemma_names()]))\n",
    "    \n",
    "    return hypernyms"
   ]
  },
  {
   "cell_type": "code",
   "execution_count": 87,
   "metadata": {},
   "outputs": [],
   "source": [
    "def get_synonyms(word):\n",
    "    word = wn.synsets(word)\n",
    "    if len(word) == 0:\n",
    "        return []\n",
    "    synonyms = list(set([w for s in word for w in s.lemma_names()]))\n",
    "    \n",
    "    return synonyms"
   ]
  },
  {
   "cell_type": "code",
   "execution_count": 91,
   "metadata": {},
   "outputs": [
    {
     "data": {
      "text/plain": [
       "['apple_tree']"
      ]
     },
     "execution_count": 91,
     "metadata": {},
     "output_type": "execute_result"
    }
   ],
   "source": [
    "get_synonyms('apple_tree')"
   ]
  },
  {
   "cell_type": "code",
   "execution_count": 34,
   "metadata": {},
   "outputs": [],
   "source": [
    "def get_vector(word1, word2):\n",
    "    \n",
    "    \n",
    "    w1 = np.zeros(3)\n",
    "    w2 = np.zeros(3)\n",
    "    \n",
    "    # check hyper/hypo-nym\n",
    "    if w2n:\n",
    "        if w1n in w2n.hypernyms():\n",
    "            w1[0] = 1\n",
    "        if w1n in w2n.hyponyms():\n",
    "            w1[1] = 1\n",
    "    \n",
    "    if w1n:\n",
    "        if w2n in w1n.hypernyms():\n",
    "            w2[0] = 1\n",
    "        if w2n in w1n.hyponyms():\n",
    "            w2[1] = 1\n",
    "            \n",
    "    if (w1n and w1n in wn.synsets(word2)) or (w2n and w2n in wn.synsets(word1)):\n",
    "        w1[2], w2[2] = 1, 1\n",
    "    \n",
    "    return w1, w2"
   ]
  },
  {
   "cell_type": "code",
   "execution_count": 44,
   "metadata": {},
   "outputs": [
    {
     "data": {
      "text/plain": [
       "[Synset('chromatic_color.n.01')]"
      ]
     },
     "execution_count": 44,
     "metadata": {},
     "output_type": "execute_result"
    }
   ],
   "source": [
    "wn.synset('blue.n.01').hypernyms()"
   ]
  },
  {
   "cell_type": "code",
   "execution_count": 47,
   "metadata": {},
   "outputs": [
    {
     "data": {
      "text/plain": [
       "[Synset('chromatic_color.n.01')]"
      ]
     },
     "execution_count": 47,
     "metadata": {},
     "output_type": "execute_result"
    }
   ],
   "source": [
    "wn.synsets('chromatic_color')"
   ]
  },
  {
   "cell_type": "code",
   "execution_count": null,
   "metadata": {},
   "outputs": [],
   "source": []
  }
 ],
 "metadata": {
  "kernelspec": {
   "display_name": "Environment (conda_pytorch_p36)",
   "language": "python",
   "name": "conda_pytorch_p36"
  },
  "language_info": {
   "codemirror_mode": {
    "name": "ipython",
    "version": 3
   },
   "file_extension": ".py",
   "mimetype": "text/x-python",
   "name": "python",
   "nbconvert_exporter": "python",
   "pygments_lexer": "ipython3",
   "version": "3.6.5"
  }
 },
 "nbformat": 4,
 "nbformat_minor": 2
}
